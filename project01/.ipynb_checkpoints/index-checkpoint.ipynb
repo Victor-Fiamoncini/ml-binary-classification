{
 "cells": [
  {
   "cell_type": "code",
   "execution_count": null,
   "id": "3092ce93",
   "metadata": {},
   "outputs": [],
   "source": [
    "from sklearn.svm import LinearSVC\n",
    "\n",
    "# features (1 yes, 0 no)\n",
    "# long hair?\n",
    "# short legs?\n",
    "# do auau?\n",
    "pig01 = [0, 1, 0]\n",
    "pig02 = [0, 1, 1]\n",
    "pig03 = [1, 1, 0]\n",
    "\n",
    "dog01 = [0, 1, 1]\n",
    "dog02 = [1, 0, 1]\n",
    "dog03 = [1, 1, 1]\n",
    "\n",
    "data = [pig01, pig02, pig03, dog01, dog02, dog03]\n",
    "\n",
    "# 1 = Pigs, 0 = Dogs\n",
    "classes = [1, 1, 1, 0, 0, 0]\n",
    "\n",
    "model = LinearSVC()\n",
    "model.fit(data, classes)"
   ]
  }
 ],
 "metadata": {
  "kernelspec": {
   "display_name": "Python 3",
   "language": "python",
   "name": "python3"
  },
  "language_info": {
   "codemirror_mode": {
    "name": "ipython",
    "version": 3
   },
   "file_extension": ".py",
   "mimetype": "text/x-python",
   "name": "python",
   "nbconvert_exporter": "python",
   "pygments_lexer": "ipython3",
   "version": "3.8.5"
  }
 },
 "nbformat": 4,
 "nbformat_minor": 5
}
