{
 "cells": [
  {
   "cell_type": "code",
   "execution_count": null,
   "metadata": {},
   "outputs": [],
   "source": [
    "# features (1 yes, 0 no)\n",
    "# long hair?\n",
    "# short legs?\n",
    "# do auau?\n",
    "pig01 = [0, 1, 0]\n",
    "pig02 = [0, 1, 1]\n",
    "pig03 = [1, 1, 0]\n",
    "\n",
    "dog01 = [0, 1, 1]\n",
    "dog02 = [1, 0, 1]\n",
    "dog03 = [1, 1, 1]\n",
    "\n",
    "data = [pig01, pig02, pig03, dog01, dog02, dog03]\n",
    "\n",
    "# 1 = Pigs, 0 = Dogs\n",
    "classes = [1, 1, 1, 0, 0, 0]"
   ]
  },
  {
   "cell_type": "code",
   "execution_count": null,
   "metadata": {},
   "outputs": [],
   "source": [
    "from sklearn.svm import LinearSVC\n",
    "\n",
    "model = LinearSVC()\n",
    "model.fit(data, classes)"
   ]
  },
  {
   "cell_type": "code",
   "execution_count": null,
   "metadata": {},
   "outputs": [],
   "source": [
    "undefined_animal = [1, 1, 1]\n",
    "model.predict([undefined_animal])"
   ]
  },
  {
   "cell_type": "code",
   "execution_count": null,
   "metadata": {},
   "outputs": [],
   "source": [
    "animal01 = [1, 1, 1]\r\n",
    "animal02 = [1, 1, 0]\r\n",
    "animal03 = [0, 1, 1]\r\n",
    "\r\n",
    "tests = [animal01, animal02, animal03]\r\n",
    "\r\n",
    "predictions = model.predict(tests)\r\n",
    "tests_classes = [0, 1, 1]\r\n",
    "\r\n",
    "correct_results = (predictions == tests_classes).sum()\r\n",
    "number_of_tests = len(tests)\r\n",
    "accuracy = correct_results / number_of_tests\r\n",
    "\r\n",
    "print('Manual accuracy: ', accuracy * 100)\r\n",
    "\r\n"
   ]
  },
  {
   "cell_type": "code",
   "execution_count": null,
   "metadata": {},
   "outputs": [],
   "source": [
    "from sklearn.metrics import accuracy_score\n",
    "\n",
    "accuracy = accuracy_score(tests_classes, predictions)"
   ]
  }
 ],
 "metadata": {
  "kernelspec": {
   "display_name": "Python 3.8.5 64-bit ('3.8.5')",
   "language": "python",
   "name": "python385jvsc74a57bd038b4776f74ef7846326f679ebb3c9e296e2ab09fe7ffa3e73b643f9a7922e0a6"
  },
  "language_info": {
   "codemirror_mode": {
    "name": "ipython",
    "version": 3
   },
   "file_extension": ".py",
   "mimetype": "text/x-python",
   "name": "python",
   "nbconvert_exporter": "python",
   "pygments_lexer": "ipython3",
   "version": "3.8.5"
  }
 },
 "nbformat": 4,
 "nbformat_minor": 5
}