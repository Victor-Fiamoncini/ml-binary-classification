{
 "metadata": {
  "language_info": {
   "codemirror_mode": {
    "name": "ipython",
    "version": 3
   },
   "file_extension": ".py",
   "mimetype": "text/x-python",
   "name": "python",
   "nbconvert_exporter": "python",
   "pygments_lexer": "ipython3",
   "version": "3.8.5"
  },
  "orig_nbformat": 2,
  "kernelspec": {
   "name": "python3",
   "display_name": "Python 3.8.5 64-bit"
  },
  "interpreter": {
   "hash": "286eef7d23a33eccd745f2f2ceb7e69b184b09986d2f8b137404410aecee58e1"
  }
 },
 "nbformat": 4,
 "nbformat_minor": 2,
 "cells": [
  {
   "cell_type": "code",
   "execution_count": null,
   "metadata": {},
   "outputs": [],
   "source": [
    "from datetime import datetime\n",
    "import numpy as np\n",
    "import pandas as pd\n",
    "from sklearn.svm import LinearSVC\n",
    "from sklearn.metrics import accuracy_score\n",
    "from sklearn.model_selection import train_test_split\n",
    "\n",
    "SEED = 5\n",
    "URL = \"https://gist.githubusercontent.com/guilhermesilveira/4d1d4a16ccbf6ea4e0a64a38a24ec884/raw/afd05cb0c796d18f3f5a6537053ded308ba94bf7/car-prices.csv\"\n",
    "\n",
    "data = pd.read_csv(URL)\n",
    "\n",
    "### Serializing data\n",
    "column_names_to_rename = {\n",
    "    'mileage_per_year': 'milhas_por_ano',\n",
    "    'model_year': 'ano_do_modelo',\n",
    "    'price': 'preco',\n",
    "    'sold': 'vendido',\n",
    "}\n",
    "\n",
    "column_values_to_rename = {\n",
    "    'yes': 1,\n",
    "    'no': 0,\n",
    "}\n",
    "\n",
    "data = data.rename(columns=column_names_to_rename)\n",
    "\n",
    "data.vendido = data.vendido.map(column_values_to_rename)\n",
    "\n",
    "actual_year = datetime.today().year\n",
    "data['idade_do_modelo'] = actual_year - data.ano_do_modelo\n",
    "\n",
    "data['km_por_ano'] = data.milhas_por_ano * 1.60934\n",
    "\n",
    "data = data.drop(columns=['Unnamed: 0', 'milhas_por_ano', 'ano_do_modelo'], axis=1)\n",
    "\n",
    "### Training and testing data\n",
    "x = data[['preco', 'idade_do_modelo', 'km_por_ano']]\n",
    "y = data['vendido']\n",
    "\n",
    "np.random.seed(SEED)\n",
    "\n",
    "x_train, x_test, y_train, y_test = train_test_split(x, y, test_size=0.25, stratify=y)\n",
    "\n",
    "print('Training with %d items & testing with %d items' % (len(x_train), len(x_test)))\n",
    "\n",
    "model = LinearSVC()\n",
    "model.fit(x_train, y_train)\n",
    "predictions = model.predict(x_test)\n",
    "\n",
    "accuracy = accuracy_score(y_test, predictions) * 100\n",
    "\n",
    "print('Accuracy is %.2f%%' % accuracy)\n",
    "\n",
    "\n"
   ]
  }
 ]
}