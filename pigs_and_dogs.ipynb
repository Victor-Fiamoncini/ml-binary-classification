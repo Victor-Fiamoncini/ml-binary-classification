{
 "cells": [
  {
   "cell_type": "code",
   "execution_count": 1,
   "metadata": {},
   "outputs": [],
   "source": [
    "# features (1 yes, 0 no)\n",
    "# long hair?\n",
    "# short legs?\n",
    "# do auau?\n",
    "pig01 = [0, 1, 0]\n",
    "pig02 = [0, 1, 1]\n",
    "pig03 = [1, 1, 0]\n",
    "dog01 = [0, 1, 1]\n",
    "dog02 = [1, 0, 1]\n",
    "dog03 = [1, 1, 1]\n",
    "\n",
    "# 1 = Pigs, 0 = Dogs\n",
    "train_x = [pig01, pig02, pig03, dog01, dog02, dog03]\n",
    "train_y = [1, 1, 1, 0, 0, 0]"
   ]
  },
  {
   "cell_type": "code",
   "execution_count": 2,
   "metadata": {},
   "outputs": [
    {
     "output_type": "execute_result",
     "data": {
      "text/plain": [
       "LinearSVC()"
      ]
     },
     "metadata": {},
     "execution_count": 2
    }
   ],
   "source": [
    "from sklearn.svm import LinearSVC\n",
    "\n",
    "model = LinearSVC()\n",
    "model.fit(train_x, train_y)"
   ]
  },
  {
   "cell_type": "code",
   "execution_count": 3,
   "metadata": {},
   "outputs": [
    {
     "output_type": "stream",
     "name": "stdout",
     "text": [
      "Manual accuracy: 66.67\n"
     ]
    }
   ],
   "source": [
    "animal01 = [1, 1, 1]\r\n",
    "animal02 = [1, 1, 0]\r\n",
    "animal03 = [0, 1, 1]\r\n",
    "\r\n",
    "test_x = [animal01, animal02, animal03]\r\n",
    "test_y = [0, 1, 1]\r\n",
    "\r\n",
    "predictions = model.predict(test_x)\r\n",
    "\r\n",
    "correct_results = (predictions == test_y).sum()\r\n",
    "number_of_tests = len(test_x)\r\n",
    "manual_accuracy = correct_results / number_of_tests\r\n",
    "\r\n",
    "print('Manual accuracy: %.2f' % (manual_accuracy * 100))\r\n",
    "\r\n"
   ]
  },
  {
   "cell_type": "code",
   "execution_count": 4,
   "metadata": {},
   "outputs": [
    {
     "output_type": "stream",
     "name": "stdout",
     "text": [
      "Sklearn accuracy: 66.67\n"
     ]
    }
   ],
   "source": [
    "from sklearn.metrics import accuracy_score\n",
    "\n",
    "accuracy = accuracy_score(test_y, predictions)\n",
    "\n",
    "print('Sklearn accuracy: %.2f' % (accuracy * 100))\n",
    "\n"
   ]
  },
  {
   "cell_type": "code",
   "execution_count": null,
   "metadata": {},
   "outputs": [],
   "source": []
  }
 ],
 "metadata": {
  "kernelspec": {
   "name": "python385jvsc74a57bd038b4776f74ef7846326f679ebb3c9e296e2ab09fe7ffa3e73b643f9a7922e0a6",
   "display_name": "Python 3.8.5 64-bit ('3.8.5')"
  },
  "language_info": {
   "codemirror_mode": {
    "name": "ipython",
    "version": 3
   },
   "file_extension": ".py",
   "mimetype": "text/x-python",
   "name": "python",
   "nbconvert_exporter": "python",
   "pygments_lexer": "ipython3",
   "version": "3.8.5"
  }
 },
 "nbformat": 4,
 "nbformat_minor": 5
}