{
 "metadata": {
  "language_info": {
   "codemirror_mode": {
    "name": "ipython",
    "version": 3
   },
   "file_extension": ".py",
   "mimetype": "text/x-python",
   "name": "python",
   "nbconvert_exporter": "python",
   "pygments_lexer": "ipython3",
   "version": "3.8.5"
  },
  "orig_nbformat": 2,
  "kernelspec": {
   "name": "python385jvsc74a57bd038b4776f74ef7846326f679ebb3c9e296e2ab09fe7ffa3e73b643f9a7922e0a6",
   "display_name": "Python 3.8.5 64-bit ('3.8.5')"
  }
 },
 "nbformat": 4,
 "nbformat_minor": 2,
 "cells": [
  {
   "cell_type": "code",
   "execution_count": 29,
   "metadata": {},
   "outputs": [],
   "source": [
    "import pandas as pd\n",
    "\n",
    "url = \"https://gist.githubusercontent.com/guilhermesilveira/2d2efa37d66b6c84a722ea627a897ced/raw/10968b997d885cbded1c92938c7a9912ba41c615/tracking.csv\"\n",
    "data = pd.read_csv(url)\n",
    "\n",
    "x = data[['home', 'how_it_works', 'contact']]\n",
    "y = data[['bought']]"
   ]
  },
  {
   "cell_type": "code",
   "execution_count": 30,
   "metadata": {},
   "outputs": [
    {
     "output_type": "stream",
     "name": "stdout",
     "text": [
      "Training with 75 items & testing with 24 items\nAccuracy is 95.83%\n"
     ]
    }
   ],
   "source": [
    "# Mannualy separate test/train data\n",
    "import numpy as np\n",
    "from sklearn.svm import LinearSVC\n",
    "from sklearn.metrics import accuracy_score\n",
    "\n",
    "x_train = x[:75]\n",
    "y_train = y[:75]\n",
    "\n",
    "x_test = x[75:]\n",
    "y_test = y[75:]\n",
    "\n",
    "print('Training with %d items & testing with %d items' % (len(x_train), len(x_test)))\n",
    "\n",
    "model = LinearSVC()\n",
    "model.fit(x_train, np.ravel(y_train))\n",
    "predictions = model.predict(x_test)\n",
    "\n",
    "accuracy = accuracy_score(y_test, predictions) * 100\n",
    "\n",
    "print('Accuracy is %.2f%%' % accuracy)"
   ]
  },
  {
   "cell_type": "code",
   "execution_count": 31,
   "metadata": {},
   "outputs": [
    {
     "output_type": "stream",
     "name": "stdout",
     "text": [
      "Training with 75 items & testing with 24 items\nAccuracy is 96.00%\n"
     ]
    }
   ],
   "source": [
    "# Using SKLearn to separate test/train data\n",
    "from sklearn.model_selection import train_test_split\n",
    "\n",
    "SEED = 20\n",
    "\n",
    "train_x, test_x, train_y, test_y = train_test_split(x, y, test_size=0.25, stratify=y, random_state=SEED)\n",
    "\n",
    "print('Training with %d items & testing with %d items' % (len(x_train), len(x_test)))\n",
    "\n",
    "model = LinearSVC()\n",
    "model.fit(train_x, np.ravel(train_y))\n",
    "predictions = model.predict(test_x)\n",
    "\n",
    "accuracy = accuracy_score(test_y, predictions) * 100\n",
    "\n",
    "print('Accuracy is %.2f%%' % accuracy)"
   ]
  },
  {
   "cell_type": "code",
   "execution_count": null,
   "metadata": {},
   "outputs": [],
   "source": []
  }
 ]
}